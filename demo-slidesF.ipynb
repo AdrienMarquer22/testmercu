{
 "cells": [
  {
   "cell_type": "code",
   "execution_count": null,
   "id": "861fb32f",
   "metadata": {
    "slideshow": {
     "slide_type": "skip"
    }
   },
   "outputs": [],
   "source": [
    "import mercury as mr\n",
    "import numpy as np\n",
    "from matplotlib import pyplot as plt\n",
    "import pandas as pd\n",
    "show_code = mr.Checkbox(value=True, label=\"Show code\")\n",
    "app = mr.App(title=\"Slides prez2 📝\", description=\"pres\",show_code=show_code.value) "
   ]
  },
  {
   "cell_type": "code",
   "execution_count": null,
   "id": "ac62c677",
   "metadata": {},
   "outputs": [],
   "source": [
    "\n",
    "file = mr.File(label=\"File upload\", max_file_size=\"10MB\")\n",
    "load = mr.Button(label=\"Load data\")\n",
    "if load.clicked:\n",
    "    print(\"Data loadad \")\n",
    "    df=pd.read_csv(\"{file.filepath}\\{file.filename}\")"
   ]
  },
  {
   "attachments": {},
   "cell_type": "markdown",
   "id": "b17011cf",
   "metadata": {
    "slideshow": {
     "slide_type": "slide"
    }
   },
   "source": [
    "# Interactive presentation 📝"
   ]
  },
  {
   "attachments": {},
   "cell_type": "markdown",
   "id": "234851a8",
   "metadata": {
    "slideshow": {
     "slide_type": "slide"
    }
   },
   "source": [
    "## Recompute slides 🖥️\n",
    "\n",
    "- You can create interactive presentation with Mercury\n",
    "- Users can recompute slides by changing widgets\n",
    "- You can enter full screen by pressing **F** and exit with **Esc**\n",
    "- Please check next slides ➡️\n",
    "\n"
   ]
  },
  {
   "cell_type": "code",
   "execution_count": null,
   "id": "e3036937",
   "metadata": {
    "slideshow": {
     "slide_type": "skip"
    }
   },
   "outputs": [],
   "source": [
    "name = mr.Text(label=\"What is your name?\", value=\"Piotr\")"
   ]
  },
  {
   "cell_type": "code",
   "execution_count": null,
   "id": "ab407f5c",
   "metadata": {
    "slideshow": {
     "slide_type": "slide"
    }
   },
   "outputs": [],
   "source": [
    "mr.Markdown(f\"\"\"## Hello {name.value}!\n",
    "\n",
    "{name.value}, this slide is recomputed after name change in the left side bar.\n",
    "\n",
    "Please change the name value in the left side bar and press **Enter**.\n",
    "\n",
    "Please check next slide ➡️\n",
    "\n",
    "\"\"\")"
   ]
  },
  {
   "cell_type": "code",
   "execution_count": null,
   "id": "0040f8c9",
   "metadata": {
    "slideshow": {
     "slide_type": "skip"
    }
   },
   "outputs": [],
   "source": [
    "samples = mr.Slider(label=\"How many samples\", value=75, min=5, max=1000)\n",
    "color = mr.Select(label=\"Mark color\", value=\"blue\", choices=[\"blue\", \"green\", \"red\"])\n"
   ]
  },
  {
   "cell_type": "code",
   "execution_count": null,
   "id": "956d7aba",
   "metadata": {
    "slideshow": {
     "slide_type": "slide"
    }
   },
   "outputs": [],
   "source": [
    "mr.Markdown(\"\"\"## Scatter plot 🎲\n",
    "Please change number of samples and mark color in the left side bar. The plot will be updated during the slide show.\"\"\")\n",
    "_ = plt.plot(np.random.rand(samples.value), np.random.rand(samples.value), \"*\", color=color.value)"
   ]
  },
  {
   "cell_type": "code",
   "execution_count": null,
   "id": "dcb5aac7",
   "metadata": {},
   "outputs": [],
   "source": []
  },
  {
   "cell_type": "code",
   "execution_count": null,
   "id": "c5c5bfa7",
   "metadata": {
    "slideshow": {
     "slide_type": "slide"
    }
   },
   "outputs": [],
   "source": [
    "_ = mr.Note(text=\"# Filtre disponible\")\n",
    "button = mr.Button(label=\"Bouton\", style=\"primary\")\n",
    "\n",
    "if button.clicked:\n",
    "    print(\"Button clicked!\")\n"
   ]
  },
  {
   "cell_type": "code",
   "execution_count": null,
   "id": "11ca4699",
   "metadata": {},
   "outputs": [],
   "source": [
    "my_flag = mr.Checkbox(value=True, label=\"Switch me\")\n",
    " \n",
    "# read checkbox value\n",
    "if my_flag.value:\n",
    "    print(\"Checkbox is ON\")\n",
    "else:\n",
    "    print(\"Checkbox is OFF\")"
   ]
  },
  {
   "cell_type": "code",
   "execution_count": null,
   "id": "d0691bdf",
   "metadata": {},
   "outputs": [],
   "source": [
    "my_file = mr.File(label=\"File upload\", max_file_size=\"100MB\")"
   ]
  },
  {
   "cell_type": "code",
   "execution_count": null,
   "id": "9a0403fe",
   "metadata": {},
   "outputs": [],
   "source": [
    "my_number = mr.Numeric(value=0, min=0, max=1000, label=\"Your favourite number\", step=1)\n",
    "  \n",
    "# access widget value\n",
    "print(f\"Value is {my_number.value}\")"
   ]
  },
  {
   "cell_type": "code",
   "execution_count": null,
   "id": "78d27c7c",
   "metadata": {},
   "outputs": [],
   "source": [
    "demo = mr.Select(label=\"Select demo\", choices=[\"A\", \"B\", \"C\"])"
   ]
  },
  {
   "cell_type": "code",
   "execution_count": null,
   "id": "3dcf46e6",
   "metadata": {},
   "outputs": [],
   "source": [
    "selected = mr.MultiSelect(label=\"Please select letters\", \n",
    "                          value=[\"a\", \"b\"], \n",
    "                          choices=[\"a\", \"b\", \"c\", \"d\", \"e\"])\n",
    "print(selected.value)"
   ]
  },
  {
   "cell_type": "code",
   "execution_count": null,
   "id": "89d2d7e0",
   "metadata": {},
   "outputs": [],
   "source": [
    " \n",
    "# add slider widget\n",
    "your_slider = mr.Slider(value=5, min=0, max=10, label=\"Your favourite number\", step=1)\n",
    "print(f\"Your slider value is {your_slider.value}\")"
   ]
  },
  {
   "cell_type": "code",
   "execution_count": null,
   "id": "92fb20f7",
   "metadata": {},
   "outputs": [],
   "source": [
    "name = mr.Text(value=\"text\", label=\"Chat\", rows=1)\n",
    "\n",
    "print(f\"Hello {name.value}!\")"
   ]
  },
  {
   "cell_type": "code",
   "execution_count": null,
   "id": "ac6a55eb",
   "metadata": {},
   "outputs": [],
   "source": [
    "your_range = mr.Range(value=[1, 6], min=0, max=10, label=\"Your favourite range\", step=1)\n",
    "    \n",
    "# access widget value in the code\n",
    "print(f\"Your range starts at {your_range.value[0]} ends at {your_range.value[1]}\")"
   ]
  },
  {
   "cell_type": "code",
   "execution_count": null,
   "id": "6cd93252",
   "metadata": {},
   "outputs": [],
   "source": [
    "button2 = mr.Button(label=\"Confetti\", style=\"info\")\n",
    "if button2.clicked:\n",
    "    mr.Confetti()\n"
   ]
  },
  {
   "cell_type": "code",
   "execution_count": null,
   "id": "27e66525",
   "metadata": {
    "slideshow": {
     "slide_type": "slide"
    }
   },
   "outputs": [],
   "source": [
    "my_dir = mr.OutputDir()\n",
    "\n",
    "data = {\n",
    "    \"firstKey\": [\"a\", \"b\", \"c\"],\n",
    "    \"secondKey\": [1, 2, 3, 4],\n",
    "    \"thirdKey\": \"Hello World!\"\n",
    "}\n",
    " \n",
    "# display JSON\n",
    "mr.JSON(json_data=data, level=1)\n",
    " \n",
    "# shorter form\n",
    "mr.JSON(data)\n",
    "messages = [\"What is your name?\", \"My name is Lucas\", \"How are you?\", \"Fine, thanks!\"]\n",
    "mr.Chat(messages)"
   ]
  },
  {
   "attachments": {},
   "cell_type": "markdown",
   "id": "600c1afc",
   "metadata": {
    "slideshow": {
     "slide_type": "slide"
    }
   },
   "source": [
    "## Thank you!\n",
    "        \n",
    "Please check our documentation at <a href=\"https://runmercury.com\" target=\"_blank\">RunMercury.com</a> for more information 📚\n",
    "\n"
   ]
  },
  {
   "attachments": {},
   "cell_type": "markdown",
   "id": "78167964",
   "metadata": {
    "slideshow": {
     "slide_type": "subslide"
    }
   },
   "source": [
    "# Merci"
   ]
  },
  {
   "attachments": {},
   "cell_type": "markdown",
   "id": "bab67c19",
   "metadata": {
    "slideshow": {
     "slide_type": "slide"
    }
   },
   "source": [
    "Test 2"
   ]
  }
 ],
 "metadata": {
  "language_info": {
   "name": "python"
  }
 },
 "nbformat": 4,
 "nbformat_minor": 5
}
